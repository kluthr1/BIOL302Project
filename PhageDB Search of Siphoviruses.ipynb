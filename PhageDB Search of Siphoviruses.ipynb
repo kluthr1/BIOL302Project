{
 "cells": [
  {
   "cell_type": "code",
   "execution_count": 1,
   "id": "2dade689",
   "metadata": {},
   "outputs": [],
   "source": [
    "import requests\n"
   ]
  },
  {
   "cell_type": "code",
   "execution_count": 2,
   "id": "7aa25811",
   "metadata": {},
   "outputs": [
    {
     "name": "stdout",
     "output_type": "stream",
     "text": [
      "Streptomyces antibioticus\n",
      "Streptomyces aureofaciens\n",
      "Streptomyces avermitilis\n",
      "Streptomyces azureus\n",
      "Streptomyces bicolor\n",
      "Streptomyces cattleya\n",
      "Streptomyces coelicolor\n",
      "Streptomyces flavogriseus\n",
      "Streptomyces flavovirens\n",
      "Streptomyces griseofuscus\n",
      "Streptomyces griseus\n",
      "Streptomyces himastatinicus\n",
      "Streptomyces indigocolor\n",
      "Streptomyces lividans\n",
      "Streptomyces mirabilis\n",
      "Streptomyces platensis\n",
      "Streptomyces roseosporus\n",
      "Streptomyces sanglieri\n",
      "Streptomyces scabiei\n",
      "Streptomyces sp.\n",
      "Streptomyces toxytricini\n",
      "Streptomyces tricolor\n",
      "Streptomyces venezuelae\n",
      "Streptomyces virginiae\n",
      "Streptomyces viridochromogenes\n",
      "Streptomyces xanthochromogenes\n"
     ]
    }
   ],
   "source": [
    "#STEP 1 \n",
    "#GENERATE A LIST OF ALL STREPTOMYCES SPECIES\n",
    "\n",
    "response = requests.get(\"https://phagesdb.org/api/host_species/\")\n",
    "\n",
    "all_species = []\n",
    "for x in response.json():\n",
    "    if x[\"genus\"] == 'Streptomyces':\n",
    "        all_species.append(x[\"id\"])\n",
    "        print(x[\"genus\"] + \" \"+ x[\"species_name\"] )\n"
   ]
  },
  {
   "cell_type": "code",
   "execution_count": 3,
   "id": "24fd519a",
   "metadata": {},
   "outputs": [],
   "source": [
    "#STEP 2: Now that we found all the host, can we find the siphoviridae phages infecting these host\n",
    "\n",
    "all_phages = []\n",
    "for x in all_species:\n",
    "    response = requests.get(\"https://phagesdb.org/api/host_species/\" + str(x)+ \"/phagelist/\")\n",
    "    for x in response.json()[\"results\"]:\n",
    "        if (x['morphotype']) == 'SIPHO':\n",
    "            all_phages.append(x)\n",
    "    \n"
   ]
  },
  {
   "cell_type": "code",
   "execution_count": 4,
   "id": "626cb718",
   "metadata": {},
   "outputs": [
    {
     "name": "stdout",
     "output_type": "stream",
     "text": [
      "103\n"
     ]
    }
   ],
   "source": [
    "#STEP 3: LIMIT PHAGES to those with a genome size and TEM Image\n",
    "\n",
    "len(all_phages)\n",
    "c = 0\n",
    "valid_phages = []\n",
    "for x in all_phages:\n",
    "    if (x[\"em_file\"]) != None and x[\"genome_length\"] != None:\n",
    "        valid_phages.append(x)\n",
    "        c = c+1\n",
    "print(c) \n"
   ]
  },
  {
   "cell_type": "code",
   "execution_count": 6,
   "id": "3b58634f",
   "metadata": {},
   "outputs": [],
   "source": [
    "#Step 4: Generate an Unannoted CSV File (Excel Sheet) of Phages\n",
    "\n",
    "import pandas as pd\n",
    "new_data = []\n",
    "\n",
    "for x in valid_phages:\n",
    "    row = []\n",
    "    row.append(x['phage_name'])\n",
    "    row.append(x[\"genome_length\"])\n",
    "    row.append(x[\"em_file\"])\n",
    "    row.append(x[\"p_institution\"]['institution_code'])\n",
    "    row.append(x[\"isolation_host\"][\"species\"])\n",
    "    new_data.append(row)\n",
    "    \n",
    "pd.DataFrame(new_data, columns = [\"Phage Name\", \"Genome Size\", \"TEM Image\", \"School\", \"Species\"]).to_csv(\"UnannotatedPhageList.csv\")\n",
    "\n",
    "\n"
   ]
  }
 ],
 "metadata": {
  "kernelspec": {
   "display_name": "Python 3",
   "language": "python",
   "name": "python3"
  },
  "language_info": {
   "codemirror_mode": {
    "name": "ipython",
    "version": 3
   },
   "file_extension": ".py",
   "mimetype": "text/x-python",
   "name": "python",
   "nbconvert_exporter": "python",
   "pygments_lexer": "ipython3",
   "version": "3.9.5"
  }
 },
 "nbformat": 4,
 "nbformat_minor": 5
}
